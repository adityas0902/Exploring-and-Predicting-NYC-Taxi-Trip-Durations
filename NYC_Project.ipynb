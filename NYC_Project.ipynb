{
 "cells": [
  {
   "cell_type": "markdown",
   "metadata": {
    "id": "b8564470"
   },
   "source": [
    "## 1. Exploratory Data Analysis"
   ]
  },
  {
   "cell_type": "code",
   "execution_count": 1,
   "metadata": {
    "id": "d8923dbe"
   },
   "outputs": [],
   "source": [
    "# Importing libraries\n",
    "import pandas as pd\n",
    "import numpy as np\n",
    "\n",
    "import matplotlib.pyplot as plt\n",
    "import seaborn as sns\n",
    "\n",
    "from sklearn.preprocessing import LabelEncoder\n",
    "\n",
    "from sklearn.model_selection import train_test_split\n",
    "\n",
    "from sklearn.neighbors import KNeighborsRegressor as KNN\n",
    "from sklearn.linear_model import LinearRegression\n",
    "from sklearn.tree import DecisionTreeRegressor\n",
    "\n",
    "import warnings\n",
    "warnings.filterwarnings('ignore')"
   ]
  },
  {
   "cell_type": "code",
   "execution_count": 2,
   "metadata": {
    "id": "77be7483"
   },
   "outputs": [],
   "source": [
    "#Importing the dataset\n",
    "\n",
    "df = pd.read_csv('nyc_taxi_trip_duration.csv')"
   ]
  },
  {
   "cell_type": "markdown",
   "metadata": {
    "id": "9f015e60"
   },
   "source": [
    "Let's check the data files! According to the data description we should find the following columns:\n",
    "\n",
    " - **id** - a unique identifier for each trip\n",
    " - **vendor_id** - a code indicating the provider associated with the trip record\n",
    " - **pickup_datetime** - date and time when the meter was engaged\n",
    " - **dropoff_datetime** - date and time when the meter was disengaged\n",
    " - **passenger_count** - the number of passengers in the vehicle (driver entered value)\n",
    " - **pickup_longitude** - the longitude where the meter was engaged\n",
    " - **pickup_latitude** - the latitude where the meter was engaged\n",
    " - **dropoff_longitude** - the longitude where the meter was disengaged\n",
    " - **dropoff_latitude** - the latitude where the meter was disengaged\n",
    " - **store_and_fwd_flag** - This flag indicates whether the trip record was held in vehicle memory before sending to the vendor because the vehicle did not have a connection to the server (Y=store and forward; N=not a store and forward trip)\n",
    " - **trip_duration** - (target) duration of the trip in seconds\n",
    "\n",
    "Here, we have 2 variables dropoff_datetime and store_and_fwd_flag which are not available before the trip starts and hence will not be used as features to the model."
   ]
  },
  {
   "cell_type": "code",
   "execution_count": 3,
   "metadata": {
    "colab": {
     "base_uri": "https://localhost:8080/"
    },
    "id": "d6f3848e",
    "outputId": "1ab533ea-269b-4182-f8c7-cf66f7aa4850"
   },
   "outputs": [
    {
     "name": "stdout",
     "output_type": "stream",
     "text": [
      "No. of rows:  729322\n",
      "No. of columns:  11\n"
     ]
    }
   ],
   "source": [
    "print(\"No. of rows: \", df.shape[0])\n",
    "print(\"No. of columns: \", df.shape[1])"
   ]
  },
  {
   "cell_type": "code",
   "execution_count": 4,
   "metadata": {
    "colab": {
     "base_uri": "https://localhost:8080/",
     "height": 357
    },
    "id": "52f4265e",
    "outputId": "4582c8b1-52cd-4472-90f2-cb6bc8e1e204"
   },
   "outputs": [
    {
     "data": {
      "text/html": [
       "<div>\n",
       "<style scoped>\n",
       "    .dataframe tbody tr th:only-of-type {\n",
       "        vertical-align: middle;\n",
       "    }\n",
       "\n",
       "    .dataframe tbody tr th {\n",
       "        vertical-align: top;\n",
       "    }\n",
       "\n",
       "    .dataframe thead th {\n",
       "        text-align: right;\n",
       "    }\n",
       "</style>\n",
       "<table border=\"1\" class=\"dataframe\">\n",
       "  <thead>\n",
       "    <tr style=\"text-align: right;\">\n",
       "      <th></th>\n",
       "      <th>id</th>\n",
       "      <th>vendor_id</th>\n",
       "      <th>pickup_datetime</th>\n",
       "      <th>dropoff_datetime</th>\n",
       "      <th>passenger_count</th>\n",
       "      <th>pickup_longitude</th>\n",
       "      <th>pickup_latitude</th>\n",
       "      <th>dropoff_longitude</th>\n",
       "      <th>dropoff_latitude</th>\n",
       "      <th>store_and_fwd_flag</th>\n",
       "      <th>trip_duration</th>\n",
       "    </tr>\n",
       "  </thead>\n",
       "  <tbody>\n",
       "    <tr>\n",
       "      <th>0</th>\n",
       "      <td>id1080784</td>\n",
       "      <td>2</td>\n",
       "      <td>2016-02-29 16:40:21</td>\n",
       "      <td>2016-02-29 16:47:01</td>\n",
       "      <td>1</td>\n",
       "      <td>-73.953918</td>\n",
       "      <td>40.778873</td>\n",
       "      <td>-73.963875</td>\n",
       "      <td>40.771164</td>\n",
       "      <td>N</td>\n",
       "      <td>400</td>\n",
       "    </tr>\n",
       "    <tr>\n",
       "      <th>1</th>\n",
       "      <td>id0889885</td>\n",
       "      <td>1</td>\n",
       "      <td>2016-03-11 23:35:37</td>\n",
       "      <td>2016-03-11 23:53:57</td>\n",
       "      <td>2</td>\n",
       "      <td>-73.988312</td>\n",
       "      <td>40.731743</td>\n",
       "      <td>-73.994751</td>\n",
       "      <td>40.694931</td>\n",
       "      <td>N</td>\n",
       "      <td>1100</td>\n",
       "    </tr>\n",
       "    <tr>\n",
       "      <th>2</th>\n",
       "      <td>id0857912</td>\n",
       "      <td>2</td>\n",
       "      <td>2016-02-21 17:59:33</td>\n",
       "      <td>2016-02-21 18:26:48</td>\n",
       "      <td>2</td>\n",
       "      <td>-73.997314</td>\n",
       "      <td>40.721458</td>\n",
       "      <td>-73.948029</td>\n",
       "      <td>40.774918</td>\n",
       "      <td>N</td>\n",
       "      <td>1635</td>\n",
       "    </tr>\n",
       "    <tr>\n",
       "      <th>3</th>\n",
       "      <td>id3744273</td>\n",
       "      <td>2</td>\n",
       "      <td>2016-01-05 09:44:31</td>\n",
       "      <td>2016-01-05 10:03:32</td>\n",
       "      <td>6</td>\n",
       "      <td>-73.961670</td>\n",
       "      <td>40.759720</td>\n",
       "      <td>-73.956779</td>\n",
       "      <td>40.780628</td>\n",
       "      <td>N</td>\n",
       "      <td>1141</td>\n",
       "    </tr>\n",
       "    <tr>\n",
       "      <th>4</th>\n",
       "      <td>id0232939</td>\n",
       "      <td>1</td>\n",
       "      <td>2016-02-17 06:42:23</td>\n",
       "      <td>2016-02-17 06:56:31</td>\n",
       "      <td>1</td>\n",
       "      <td>-74.017120</td>\n",
       "      <td>40.708469</td>\n",
       "      <td>-73.988182</td>\n",
       "      <td>40.740631</td>\n",
       "      <td>N</td>\n",
       "      <td>848</td>\n",
       "    </tr>\n",
       "  </tbody>\n",
       "</table>\n",
       "</div>"
      ],
      "text/plain": [
       "          id  vendor_id      pickup_datetime     dropoff_datetime  \\\n",
       "0  id1080784          2  2016-02-29 16:40:21  2016-02-29 16:47:01   \n",
       "1  id0889885          1  2016-03-11 23:35:37  2016-03-11 23:53:57   \n",
       "2  id0857912          2  2016-02-21 17:59:33  2016-02-21 18:26:48   \n",
       "3  id3744273          2  2016-01-05 09:44:31  2016-01-05 10:03:32   \n",
       "4  id0232939          1  2016-02-17 06:42:23  2016-02-17 06:56:31   \n",
       "\n",
       "   passenger_count  pickup_longitude  pickup_latitude  dropoff_longitude  \\\n",
       "0                1        -73.953918        40.778873         -73.963875   \n",
       "1                2        -73.988312        40.731743         -73.994751   \n",
       "2                2        -73.997314        40.721458         -73.948029   \n",
       "3                6        -73.961670        40.759720         -73.956779   \n",
       "4                1        -74.017120        40.708469         -73.988182   \n",
       "\n",
       "   dropoff_latitude store_and_fwd_flag  trip_duration  \n",
       "0         40.771164                  N            400  \n",
       "1         40.694931                  N           1100  \n",
       "2         40.774918                  N           1635  \n",
       "3         40.780628                  N           1141  \n",
       "4         40.740631                  N            848  "
      ]
     },
     "execution_count": 4,
     "metadata": {},
     "output_type": "execute_result"
    }
   ],
   "source": [
    "df.head()"
   ]
  },
  {
   "cell_type": "code",
   "execution_count": 5,
   "metadata": {
    "colab": {
     "base_uri": "https://localhost:8080/",
     "height": 357
    },
    "id": "d1224ebf",
    "outputId": "36170cbb-8a9b-4352-80e6-36701bc56dde"
   },
   "outputs": [
    {
     "data": {
      "text/html": [
       "<div>\n",
       "<style scoped>\n",
       "    .dataframe tbody tr th:only-of-type {\n",
       "        vertical-align: middle;\n",
       "    }\n",
       "\n",
       "    .dataframe tbody tr th {\n",
       "        vertical-align: top;\n",
       "    }\n",
       "\n",
       "    .dataframe thead th {\n",
       "        text-align: right;\n",
       "    }\n",
       "</style>\n",
       "<table border=\"1\" class=\"dataframe\">\n",
       "  <thead>\n",
       "    <tr style=\"text-align: right;\">\n",
       "      <th></th>\n",
       "      <th>id</th>\n",
       "      <th>vendor_id</th>\n",
       "      <th>pickup_datetime</th>\n",
       "      <th>dropoff_datetime</th>\n",
       "      <th>passenger_count</th>\n",
       "      <th>pickup_longitude</th>\n",
       "      <th>pickup_latitude</th>\n",
       "      <th>dropoff_longitude</th>\n",
       "      <th>dropoff_latitude</th>\n",
       "      <th>store_and_fwd_flag</th>\n",
       "      <th>trip_duration</th>\n",
       "    </tr>\n",
       "  </thead>\n",
       "  <tbody>\n",
       "    <tr>\n",
       "      <th>729317</th>\n",
       "      <td>id3905982</td>\n",
       "      <td>2</td>\n",
       "      <td>2016-05-21 13:29:38</td>\n",
       "      <td>2016-05-21 13:34:34</td>\n",
       "      <td>2</td>\n",
       "      <td>-73.965919</td>\n",
       "      <td>40.789780</td>\n",
       "      <td>-73.952637</td>\n",
       "      <td>40.789181</td>\n",
       "      <td>N</td>\n",
       "      <td>296</td>\n",
       "    </tr>\n",
       "    <tr>\n",
       "      <th>729318</th>\n",
       "      <td>id0102861</td>\n",
       "      <td>1</td>\n",
       "      <td>2016-02-22 00:43:11</td>\n",
       "      <td>2016-02-22 00:48:26</td>\n",
       "      <td>1</td>\n",
       "      <td>-73.996666</td>\n",
       "      <td>40.737434</td>\n",
       "      <td>-74.001320</td>\n",
       "      <td>40.731911</td>\n",
       "      <td>N</td>\n",
       "      <td>315</td>\n",
       "    </tr>\n",
       "    <tr>\n",
       "      <th>729319</th>\n",
       "      <td>id0439699</td>\n",
       "      <td>1</td>\n",
       "      <td>2016-04-15 18:56:48</td>\n",
       "      <td>2016-04-15 19:08:01</td>\n",
       "      <td>1</td>\n",
       "      <td>-73.997849</td>\n",
       "      <td>40.761696</td>\n",
       "      <td>-74.001488</td>\n",
       "      <td>40.741207</td>\n",
       "      <td>N</td>\n",
       "      <td>673</td>\n",
       "    </tr>\n",
       "    <tr>\n",
       "      <th>729320</th>\n",
       "      <td>id2078912</td>\n",
       "      <td>1</td>\n",
       "      <td>2016-06-19 09:50:47</td>\n",
       "      <td>2016-06-19 09:58:14</td>\n",
       "      <td>1</td>\n",
       "      <td>-74.006706</td>\n",
       "      <td>40.708244</td>\n",
       "      <td>-74.013550</td>\n",
       "      <td>40.713814</td>\n",
       "      <td>N</td>\n",
       "      <td>447</td>\n",
       "    </tr>\n",
       "    <tr>\n",
       "      <th>729321</th>\n",
       "      <td>id1053441</td>\n",
       "      <td>2</td>\n",
       "      <td>2016-01-01 17:24:16</td>\n",
       "      <td>2016-01-01 17:44:40</td>\n",
       "      <td>4</td>\n",
       "      <td>-74.003342</td>\n",
       "      <td>40.743839</td>\n",
       "      <td>-73.945847</td>\n",
       "      <td>40.712841</td>\n",
       "      <td>N</td>\n",
       "      <td>1224</td>\n",
       "    </tr>\n",
       "  </tbody>\n",
       "</table>\n",
       "</div>"
      ],
      "text/plain": [
       "               id  vendor_id      pickup_datetime     dropoff_datetime  \\\n",
       "729317  id3905982          2  2016-05-21 13:29:38  2016-05-21 13:34:34   \n",
       "729318  id0102861          1  2016-02-22 00:43:11  2016-02-22 00:48:26   \n",
       "729319  id0439699          1  2016-04-15 18:56:48  2016-04-15 19:08:01   \n",
       "729320  id2078912          1  2016-06-19 09:50:47  2016-06-19 09:58:14   \n",
       "729321  id1053441          2  2016-01-01 17:24:16  2016-01-01 17:44:40   \n",
       "\n",
       "        passenger_count  pickup_longitude  pickup_latitude  dropoff_longitude  \\\n",
       "729317                2        -73.965919        40.789780         -73.952637   \n",
       "729318                1        -73.996666        40.737434         -74.001320   \n",
       "729319                1        -73.997849        40.761696         -74.001488   \n",
       "729320                1        -74.006706        40.708244         -74.013550   \n",
       "729321                4        -74.003342        40.743839         -73.945847   \n",
       "\n",
       "        dropoff_latitude store_and_fwd_flag  trip_duration  \n",
       "729317         40.789181                  N            296  \n",
       "729318         40.731911                  N            315  \n",
       "729319         40.741207                  N            673  \n",
       "729320         40.713814                  N            447  \n",
       "729321         40.712841                  N           1224  "
      ]
     },
     "execution_count": 5,
     "metadata": {},
     "output_type": "execute_result"
    }
   ],
   "source": [
    "df.tail()"
   ]
  },
  {
   "cell_type": "code",
   "execution_count": 6,
   "metadata": {
    "colab": {
     "base_uri": "https://localhost:8080/"
    },
    "id": "a0ba7144",
    "outputId": "69b82c4e-f9dd-4518-c0a3-73507eab943b"
   },
   "outputs": [
    {
     "name": "stdout",
     "output_type": "stream",
     "text": [
      "id                    0\n",
      "vendor_id             0\n",
      "pickup_datetime       0\n",
      "dropoff_datetime      0\n",
      "passenger_count       0\n",
      "pickup_longitude      0\n",
      "pickup_latitude       0\n",
      "dropoff_longitude     0\n",
      "dropoff_latitude      0\n",
      "store_and_fwd_flag    0\n",
      "trip_duration         0\n",
      "dtype: int64\n"
     ]
    }
   ],
   "source": [
    "#Missing values\n",
    "print(df.isnull().sum())"
   ]
  },
  {
   "cell_type": "code",
   "execution_count": 7,
   "metadata": {
    "colab": {
     "base_uri": "https://localhost:8080/"
    },
    "id": "54c7a5c7",
    "outputId": "470ff111-f94d-4fb4-e701-a85dbf992cea"
   },
   "outputs": [
    {
     "data": {
      "text/plain": [
       "id                     object\n",
       "vendor_id               int64\n",
       "pickup_datetime        object\n",
       "dropoff_datetime       object\n",
       "passenger_count         int64\n",
       "pickup_longitude      float64\n",
       "pickup_latitude       float64\n",
       "dropoff_longitude     float64\n",
       "dropoff_latitude      float64\n",
       "store_and_fwd_flag     object\n",
       "trip_duration           int64\n",
       "dtype: object"
      ]
     },
     "execution_count": 7,
     "metadata": {},
     "output_type": "execute_result"
    }
   ],
   "source": [
    "# checking the datatype of all features in the dataset\n",
    "df.dtypes"
   ]
  },
  {
   "cell_type": "markdown",
   "metadata": {
    "id": "57a62d54"
   },
   "source": [
    "**Categorical variables:**\n",
    "\n",
    "id, pickup_datetime, dropoff_datetime, store_and_fwd_flag\n",
    "\n",
    "**Continuous variables:**\n",
    "\n",
    "vendor_id, passenger_count, pickup_longitude, pickup_latitude dropoff_longitude, dropoff_latitude\n",
    "\n",
    "**Target Exploration:** trip_duratation\n",
    "\n",
    "Here the trip_duration is a continuos variable, which determines that the problem is a regression problem.\n",
    "\n",
    "understanding categorical variable"
   ]
  },
  {
   "cell_type": "code",
   "execution_count": 8,
   "metadata": {
    "id": "732c0626"
   },
   "outputs": [],
   "source": [
    "#Transforming pick_up and drop_off date time into a datetime object\n",
    "df['pickup_datetime'] = pd.to_datetime(df['pickup_datetime'], format= '%Y-%m-%d %H:%M:%S')\n",
    "df['dropoff_datetime'] = pd.to_datetime(df['dropoff_datetime'], format='%Y-%m-%d %H:%M:%S')"
   ]
  },
  {
   "cell_type": "code",
   "execution_count": 9,
   "metadata": {
    "id": "7e20b5ec"
   },
   "outputs": [],
   "source": [
    "#Transforming vendor_id and store_and_fwd to categorical data type\n",
    "df['vendor_id'] = df['vendor_id'].astype('category')\n",
    "df['store_and_fwd_flag'] = df['store_and_fwd_flag'].astype('category')"
   ]
  },
  {
   "cell_type": "code",
   "execution_count": 10,
   "metadata": {
    "id": "646601aa"
   },
   "outputs": [],
   "source": [
    "# Converting yes/no flag to 1 and 0 and transforming it into categorical data type\n",
    "df['store_and_fwd_flag'] = 1 * (df.store_and_fwd_flag.values == 'Y')\n",
    "df['store_and_fwd_flag'] = df['store_and_fwd_flag'].astype('category')"
   ]
  },
  {
   "cell_type": "code",
   "execution_count": 11,
   "metadata": {
    "colab": {
     "base_uri": "https://localhost:8080/"
    },
    "id": "3363a36b",
    "outputId": "0b8c15dd-3bb4-4d6d-a499-de25dad5c840"
   },
   "outputs": [
    {
     "data": {
      "text/plain": [
       "id                            object\n",
       "vendor_id                   category\n",
       "pickup_datetime       datetime64[ns]\n",
       "dropoff_datetime      datetime64[ns]\n",
       "passenger_count                int64\n",
       "pickup_longitude             float64\n",
       "pickup_latitude              float64\n",
       "dropoff_longitude            float64\n",
       "dropoff_latitude             float64\n",
       "store_and_fwd_flag          category\n",
       "trip_duration                  int64\n",
       "dtype: object"
      ]
     },
     "execution_count": 11,
     "metadata": {},
     "output_type": "execute_result"
    }
   ],
   "source": [
    "#Checking the data types again\n",
    "df.dtypes"
   ]
  },
  {
   "cell_type": "code",
   "execution_count": 12,
   "metadata": {
    "colab": {
     "base_uri": "https://localhost:8080/"
    },
    "id": "ba0e9410",
    "outputId": "d7a01a96-c731-4835-8339-79b5f37322d0"
   },
   "outputs": [
    {
     "data": {
      "text/plain": [
       "(0, 12)"
      ]
     },
     "execution_count": 12,
     "metadata": {},
     "output_type": "execute_result"
    }
   ],
   "source": [
    "df['check_trip_duration'] = (df['dropoff_datetime'] - df['pickup_datetime']).map(lambda x: x.total_seconds())\n",
    "\n",
    "duration_difference = df[np.abs(df['check_trip_duration'].values  - df['trip_duration'].values) > 1]\n",
    "duration_difference.shape"
   ]
  },
  {
   "cell_type": "markdown",
   "metadata": {
    "id": "7a3db387"
   },
   "source": [
    "This implies that there is no inconsistency in data wrt the drop location and trip duration"
   ]
  },
  {
   "cell_type": "code",
   "execution_count": 13,
   "metadata": {
    "colab": {
     "base_uri": "https://localhost:8080/"
    },
    "id": "de8365a7",
    "outputId": "d253c898-35ef-4868-de32-24cd6c4bb7c3"
   },
   "outputs": [
    {
     "name": "stdout",
     "output_type": "stream",
     "text": [
      "Startdate:  2016-01-01 00:01:14\n",
      "Enddate:  2016-06-30 23:59:37\n"
     ]
    }
   ],
   "source": [
    "print(\"Startdate: \", df['pickup_datetime'].min())\n",
    "print(\"Enddate: \", df['pickup_datetime'].max())"
   ]
  },
  {
   "cell_type": "markdown",
   "metadata": {
    "id": "704f5d68"
   },
   "source": [
    "The trip duration data is collected from the time period of first 6 months from the year 2016"
   ]
  },
  {
   "cell_type": "code",
   "execution_count": 14,
   "metadata": {
    "id": "9c258641"
   },
   "outputs": [],
   "source": [
    "# extracting more features from the datetime variable\n",
    "# For pick_up\n",
    "df['pickup_day']=df['pickup_datetime'].dt.day\n",
    "df['pickup_hour'] = df['pickup_datetime'].dt.hour\n",
    "df['pickup_weekday'] = df['pickup_datetime'].dt.weekday\n",
    "# for Drop_off\n",
    "df['dropoff_day'] = df['dropoff_datetime'].dt.day\n",
    "df['dropoff_hour'] = df['dropoff_datetime'].dt.hour\n",
    "df['dropoff_weekday'] = df['dropoff_datetime'].dt.weekday"
   ]
  },
  {
   "cell_type": "code",
   "execution_count": 15,
   "metadata": {
    "colab": {
     "base_uri": "https://localhost:8080/",
     "height": 357
    },
    "id": "dc0eae36",
    "outputId": "072db490-2c9e-4625-f57f-e117fc5c6814",
    "scrolled": true
   },
   "outputs": [
    {
     "data": {
      "text/html": [
       "<div>\n",
       "<style scoped>\n",
       "    .dataframe tbody tr th:only-of-type {\n",
       "        vertical-align: middle;\n",
       "    }\n",
       "\n",
       "    .dataframe tbody tr th {\n",
       "        vertical-align: top;\n",
       "    }\n",
       "\n",
       "    .dataframe thead th {\n",
       "        text-align: right;\n",
       "    }\n",
       "</style>\n",
       "<table border=\"1\" class=\"dataframe\">\n",
       "  <thead>\n",
       "    <tr style=\"text-align: right;\">\n",
       "      <th></th>\n",
       "      <th>id</th>\n",
       "      <th>vendor_id</th>\n",
       "      <th>pickup_datetime</th>\n",
       "      <th>dropoff_datetime</th>\n",
       "      <th>passenger_count</th>\n",
       "      <th>pickup_longitude</th>\n",
       "      <th>pickup_latitude</th>\n",
       "      <th>dropoff_longitude</th>\n",
       "      <th>dropoff_latitude</th>\n",
       "      <th>store_and_fwd_flag</th>\n",
       "      <th>trip_duration</th>\n",
       "      <th>check_trip_duration</th>\n",
       "      <th>pickup_day</th>\n",
       "      <th>pickup_hour</th>\n",
       "      <th>pickup_weekday</th>\n",
       "      <th>dropoff_day</th>\n",
       "      <th>dropoff_hour</th>\n",
       "      <th>dropoff_weekday</th>\n",
       "    </tr>\n",
       "  </thead>\n",
       "  <tbody>\n",
       "    <tr>\n",
       "      <th>0</th>\n",
       "      <td>id1080784</td>\n",
       "      <td>2</td>\n",
       "      <td>2016-02-29 16:40:21</td>\n",
       "      <td>2016-02-29 16:47:01</td>\n",
       "      <td>1</td>\n",
       "      <td>-73.953918</td>\n",
       "      <td>40.778873</td>\n",
       "      <td>-73.963875</td>\n",
       "      <td>40.771164</td>\n",
       "      <td>0</td>\n",
       "      <td>400</td>\n",
       "      <td>400.0</td>\n",
       "      <td>29</td>\n",
       "      <td>16</td>\n",
       "      <td>0</td>\n",
       "      <td>29</td>\n",
       "      <td>16</td>\n",
       "      <td>0</td>\n",
       "    </tr>\n",
       "    <tr>\n",
       "      <th>1</th>\n",
       "      <td>id0889885</td>\n",
       "      <td>1</td>\n",
       "      <td>2016-03-11 23:35:37</td>\n",
       "      <td>2016-03-11 23:53:57</td>\n",
       "      <td>2</td>\n",
       "      <td>-73.988312</td>\n",
       "      <td>40.731743</td>\n",
       "      <td>-73.994751</td>\n",
       "      <td>40.694931</td>\n",
       "      <td>0</td>\n",
       "      <td>1100</td>\n",
       "      <td>1100.0</td>\n",
       "      <td>11</td>\n",
       "      <td>23</td>\n",
       "      <td>4</td>\n",
       "      <td>11</td>\n",
       "      <td>23</td>\n",
       "      <td>4</td>\n",
       "    </tr>\n",
       "    <tr>\n",
       "      <th>2</th>\n",
       "      <td>id0857912</td>\n",
       "      <td>2</td>\n",
       "      <td>2016-02-21 17:59:33</td>\n",
       "      <td>2016-02-21 18:26:48</td>\n",
       "      <td>2</td>\n",
       "      <td>-73.997314</td>\n",
       "      <td>40.721458</td>\n",
       "      <td>-73.948029</td>\n",
       "      <td>40.774918</td>\n",
       "      <td>0</td>\n",
       "      <td>1635</td>\n",
       "      <td>1635.0</td>\n",
       "      <td>21</td>\n",
       "      <td>17</td>\n",
       "      <td>6</td>\n",
       "      <td>21</td>\n",
       "      <td>18</td>\n",
       "      <td>6</td>\n",
       "    </tr>\n",
       "    <tr>\n",
       "      <th>3</th>\n",
       "      <td>id3744273</td>\n",
       "      <td>2</td>\n",
       "      <td>2016-01-05 09:44:31</td>\n",
       "      <td>2016-01-05 10:03:32</td>\n",
       "      <td>6</td>\n",
       "      <td>-73.961670</td>\n",
       "      <td>40.759720</td>\n",
       "      <td>-73.956779</td>\n",
       "      <td>40.780628</td>\n",
       "      <td>0</td>\n",
       "      <td>1141</td>\n",
       "      <td>1141.0</td>\n",
       "      <td>5</td>\n",
       "      <td>9</td>\n",
       "      <td>1</td>\n",
       "      <td>5</td>\n",
       "      <td>10</td>\n",
       "      <td>1</td>\n",
       "    </tr>\n",
       "    <tr>\n",
       "      <th>4</th>\n",
       "      <td>id0232939</td>\n",
       "      <td>1</td>\n",
       "      <td>2016-02-17 06:42:23</td>\n",
       "      <td>2016-02-17 06:56:31</td>\n",
       "      <td>1</td>\n",
       "      <td>-74.017120</td>\n",
       "      <td>40.708469</td>\n",
       "      <td>-73.988182</td>\n",
       "      <td>40.740631</td>\n",
       "      <td>0</td>\n",
       "      <td>848</td>\n",
       "      <td>848.0</td>\n",
       "      <td>17</td>\n",
       "      <td>6</td>\n",
       "      <td>2</td>\n",
       "      <td>17</td>\n",
       "      <td>6</td>\n",
       "      <td>2</td>\n",
       "    </tr>\n",
       "  </tbody>\n",
       "</table>\n",
       "</div>"
      ],
      "text/plain": [
       "          id vendor_id     pickup_datetime    dropoff_datetime  \\\n",
       "0  id1080784         2 2016-02-29 16:40:21 2016-02-29 16:47:01   \n",
       "1  id0889885         1 2016-03-11 23:35:37 2016-03-11 23:53:57   \n",
       "2  id0857912         2 2016-02-21 17:59:33 2016-02-21 18:26:48   \n",
       "3  id3744273         2 2016-01-05 09:44:31 2016-01-05 10:03:32   \n",
       "4  id0232939         1 2016-02-17 06:42:23 2016-02-17 06:56:31   \n",
       "\n",
       "   passenger_count  pickup_longitude  pickup_latitude  dropoff_longitude  \\\n",
       "0                1        -73.953918        40.778873         -73.963875   \n",
       "1                2        -73.988312        40.731743         -73.994751   \n",
       "2                2        -73.997314        40.721458         -73.948029   \n",
       "3                6        -73.961670        40.759720         -73.956779   \n",
       "4                1        -74.017120        40.708469         -73.988182   \n",
       "\n",
       "   dropoff_latitude store_and_fwd_flag  trip_duration  check_trip_duration  \\\n",
       "0         40.771164                  0            400                400.0   \n",
       "1         40.694931                  0           1100               1100.0   \n",
       "2         40.774918                  0           1635               1635.0   \n",
       "3         40.780628                  0           1141               1141.0   \n",
       "4         40.740631                  0            848                848.0   \n",
       "\n",
       "   pickup_day  pickup_hour  pickup_weekday  dropoff_day  dropoff_hour  \\\n",
       "0          29           16               0           29            16   \n",
       "1          11           23               4           11            23   \n",
       "2          21           17               6           21            18   \n",
       "3           5            9               1            5            10   \n",
       "4          17            6               2           17             6   \n",
       "\n",
       "   dropoff_weekday  \n",
       "0                0  \n",
       "1                4  \n",
       "2                6  \n",
       "3                1  \n",
       "4                2  "
      ]
     },
     "execution_count": 15,
     "metadata": {},
     "output_type": "execute_result"
    }
   ],
   "source": [
    "df.head()"
   ]
  },
  {
   "cell_type": "markdown",
   "metadata": {
    "id": "0c31fdf5"
   },
   "source": [
    "### Univariate Visualization"
   ]
  },
  {
   "cell_type": "code",
   "execution_count": 16,
   "metadata": {
    "colab": {
     "base_uri": "https://localhost:8080/",
     "height": 351
    },
    "id": "217573d2",
    "outputId": "f44a124a-499e-44a9-d834-2cc997e38ffd"
   },
   "outputs": [
    {
     "data": {
      "text/plain": [
       "Text(0, 0.5, 'Total Number of pickups')"
      ]
     },
     "execution_count": 16,
     "metadata": {},
     "output_type": "execute_result"
    },
    {
     "data": {
      "image/png": "[encoded data removed]",
      "text/plain": [
       "<Figure size 1440x360 with 3 Axes>"
      ]
     },
     "metadata": {
      "needs_background": "light"
     },
     "output_type": "display_data"
    }
   ],
   "source": [
    "# Datetime features\n",
    "plt.figure(figsize=(20, 5))\n",
    "\n",
    "# Passenger Count\n",
    "plt.subplot(141)\n",
    "sns.countplot(df['pickup_day'])\n",
    "plt.xlabel('Day')\n",
    "plt.ylabel('Total Number of pickups')\n",
    "\n",
    "# vendor_id\n",
    "plt.subplot(142)\n",
    "sns.countplot(df['pickup_hour'])\n",
    "plt.xlabel('Hour of Day')\n",
    "plt.ylabel('Total number of pickups')\n",
    "\n",
    "# Passenger Count\n",
    "plt.subplot(143)\n",
    "sns.countplot(df['pickup_weekday'])\n",
    "plt.xlabel('Week Day')\n",
    "plt.ylabel('Total Number of pickups')"
   ]
  },
  {
   "cell_type": "markdown",
   "metadata": {
    "id": "3451a7b0"
   },
   "source": [
    "* Trips are very low in early morning, while very high in the late evening hour in the day.\n",
    "* Trip is on peak on Thursday(4).\n",
    "* Trips are very low in early morning, while very high in the late evening hour in the day."
   ]
  },
  {
   "cell_type": "code",
   "execution_count": 17,
   "metadata": {
    "colab": {
     "base_uri": "https://localhost:8080/",
     "height": 371
    },
    "id": "f2a5f6fe",
    "outputId": "9c8e4870-6316-443c-b390-ecb1d3dcc567"
   },
   "outputs": [
    {
     "data": {
      "text/plain": [
       "Text(0, 0.5, 'Frequency')"
      ]
     },
     "execution_count": 17,
     "metadata": {},
     "output_type": "execute_result"
    },
    {
     "data": {
      "image/png": "[encoded data removed]",
      "text/plain": [
       "<Figure size 1584x432 with 3 Axes>"
      ]
     },
     "metadata": {
      "needs_background": "light"
     },
     "output_type": "display_data"
    }
   ],
   "source": [
    "# Binary Features\n",
    "plt.figure(figsize=(22, 6))\n",
    "#fig, axs = plt.subplot(ncols=2)\n",
    "\n",
    "# Passenger Count\n",
    "plt.subplot(131)\n",
    "sns.countplot(df['passenger_count'])\n",
    "plt.xlabel('Passenger Count')\n",
    "plt.ylabel('Frequency')\n",
    "\n",
    "\n",
    "# vendor_id\n",
    "plt.subplot(132)\n",
    "sns.countplot(df['vendor_id'])\n",
    "plt.xlabel('vendor_id')\n",
    "plt.ylabel('Frequency')\n",
    "\n",
    "# store_and_fwd_flag\n",
    "plt.subplot(133)\n",
    "sns.countplot(df['store_and_fwd_flag'])\n",
    "plt.xlabel('store_and_fwd_flag')\n",
    "plt.ylabel('Frequency')"
   ]
  },
  {
   "cell_type": "markdown",
   "metadata": {
    "id": "79f4734c"
   },
   "source": [
    "* Most of the trips involve only 1 passenger.\n",
    "* Vendor 2 has more trips, compared to vendor 1.\n",
    "* The value with 1 is very low in the store_and_fwd_flag variable. This suggests that almost no storing took place."
   ]
  },
  {
   "cell_type": "markdown",
   "metadata": {
    "id": "3021602d"
   },
   "source": [
    "**Feature engineering for passenger_count**"
   ]
  },
  {
   "cell_type": "code",
   "execution_count": 18,
   "metadata": {
    "colab": {
     "base_uri": "https://localhost:8080/"
    },
    "id": "28b08aa9",
    "outputId": "4da2829c-61d4-4073-c979-ada5bc589ea1"
   },
   "outputs": [
    {
     "data": {
      "text/plain": [
       "1    517415\n",
       "2    105097\n",
       "5     38926\n",
       "3     29692\n",
       "6     24107\n",
       "4     14050\n",
       "0        33\n",
       "9         1\n",
       "7         1\n",
       "Name: passenger_count, dtype: int64"
      ]
     },
     "execution_count": 18,
     "metadata": {},
     "output_type": "execute_result"
    }
   ],
   "source": [
    "df['passenger_count'].value_counts()"
   ]
  },
  {
   "cell_type": "markdown",
   "metadata": {
    "id": "9a9e0c07"
   },
   "source": [
    "Here as we can see that 0 and 9 are very less in number so we will remove it."
   ]
  },
  {
   "cell_type": "code",
   "execution_count": 19,
   "metadata": {
    "id": "2317c134"
   },
   "outputs": [],
   "source": [
    "df=df[df['passenger_count']!=0]\n",
    "df=df[df['passenger_count']<=6]"
   ]
  },
  {
   "cell_type": "code",
   "execution_count": 20,
   "metadata": {
    "colab": {
     "base_uri": "https://localhost:8080/"
    },
    "id": "a6423105",
    "outputId": "ce56411d-4c2e-41af-d2b2-5045dd0f13f6"
   },
   "outputs": [
    {
     "data": {
      "text/plain": [
       "1    517415\n",
       "2    105097\n",
       "5     38926\n",
       "3     29692\n",
       "6     24107\n",
       "4     14050\n",
       "Name: passenger_count, dtype: int64"
      ]
     },
     "execution_count": 20,
     "metadata": {},
     "output_type": "execute_result"
    }
   ],
   "source": [
    "# checking\n",
    "df['passenger_count'].value_counts()"
   ]
  },
  {
   "cell_type": "code",
   "execution_count": 21,
   "metadata": {
    "colab": {
     "base_uri": "https://localhost:8080/"
    },
    "id": "6b876f5c",
    "outputId": "6d81439e-650c-4d4f-d63b-35d877b3849e"
   },
   "outputs": [
    {
     "data": {
      "text/plain": [
       "count    202.579722\n",
       "mean       0.264515\n",
       "std        1.073531\n",
       "min        0.000278\n",
       "25%        0.110278\n",
       "50%        0.184167\n",
       "75%        0.298611\n",
       "max      538.815556\n",
       "Name: trip_duration, dtype: float64"
      ]
     },
     "execution_count": 21,
     "metadata": {},
     "output_type": "execute_result"
    }
   ],
   "source": [
    "#Getting the summary of the trip_duration dataset\n",
    "df['trip_duration'].describe()/3600 # Trip duration in hours"
   ]
  },
  {
   "cell_type": "markdown",
   "metadata": {
    "id": "ea398285"
   },
   "source": [
    "There is a trip with maximum duration of 538 hours. This is a huge outlier and might create problems at the prediction stage. One idea is to log transform this feature."
   ]
  },
  {
   "cell_type": "code",
   "execution_count": 22,
   "metadata": {
    "colab": {
     "base_uri": "https://localhost:8080/",
     "height": 280
    },
    "id": "dccf112a",
    "outputId": "f073ea5f-69f3-4ec9-a768-485aede4aa5a"
   },
   "outputs": [
    {
     "data": {
      "image/png": "[encoded data removed]",
      "text/plain": [
       "<Figure size 432x288 with 1 Axes>"
      ]
     },
     "metadata": {
      "needs_background": "light"
     },
     "output_type": "display_data"
    }
   ],
   "source": [
    "df['log_trip_duration'] = np.log(df['trip_duration'].values + 1)\n",
    "sns.distplot(df['log_trip_duration'], kde = False, bins = 200)\n",
    "plt.show()"
   ]
  },
  {
   "cell_type": "markdown",
   "metadata": {
    "id": "c44b1b43"
   },
   "source": [
    "We find:\n",
    "\n",
    "1. The majority of rides follow a rather smooth distribution that looks almost log-normal with a peak just around exp(6.5)  i.e. about 17 minutes.\n",
    "2. There are several suspiciously short rides with less than 10 seconds duration.\n",
    "3. As discussed earlier, there are a few huge outliers near 12."
   ]
  },
  {
   "cell_type": "code",
   "execution_count": 23,
   "metadata": {
    "colab": {
     "base_uri": "https://localhost:8080/",
     "height": 357
    },
    "id": "cbcbe860",
    "outputId": "a6728fd1-dfa8-45be-cf20-efccdd16d59e"
   },
   "outputs": [
    {
     "data": {
      "text/html": [
       "<div>\n",
       "<style scoped>\n",
       "    .dataframe tbody tr th:only-of-type {\n",
       "        vertical-align: middle;\n",
       "    }\n",
       "\n",
       "    .dataframe tbody tr th {\n",
       "        vertical-align: top;\n",
       "    }\n",
       "\n",
       "    .dataframe thead th {\n",
       "        text-align: right;\n",
       "    }\n",
       "</style>\n",
       "<table border=\"1\" class=\"dataframe\">\n",
       "  <thead>\n",
       "    <tr style=\"text-align: right;\">\n",
       "      <th></th>\n",
       "      <th>id</th>\n",
       "      <th>vendor_id</th>\n",
       "      <th>pickup_datetime</th>\n",
       "      <th>dropoff_datetime</th>\n",
       "      <th>passenger_count</th>\n",
       "      <th>pickup_longitude</th>\n",
       "      <th>pickup_latitude</th>\n",
       "      <th>dropoff_longitude</th>\n",
       "      <th>dropoff_latitude</th>\n",
       "      <th>store_and_fwd_flag</th>\n",
       "      <th>trip_duration</th>\n",
       "      <th>check_trip_duration</th>\n",
       "      <th>pickup_day</th>\n",
       "      <th>pickup_hour</th>\n",
       "      <th>pickup_weekday</th>\n",
       "      <th>dropoff_day</th>\n",
       "      <th>dropoff_hour</th>\n",
       "      <th>dropoff_weekday</th>\n",
       "      <th>log_trip_duration</th>\n",
       "    </tr>\n",
       "  </thead>\n",
       "  <tbody>\n",
       "    <tr>\n",
       "      <th>0</th>\n",
       "      <td>id1080784</td>\n",
       "      <td>2</td>\n",
       "      <td>2016-02-29 16:40:21</td>\n",
       "      <td>2016-02-29 16:47:01</td>\n",
       "      <td>1</td>\n",
       "      <td>-73.953918</td>\n",
       "      <td>40.778873</td>\n",
       "      <td>-73.963875</td>\n",
       "      <td>40.771164</td>\n",
       "      <td>0</td>\n",
       "      <td>400</td>\n",
       "      <td>400.0</td>\n",
       "      <td>29</td>\n",
       "      <td>16</td>\n",
       "      <td>0</td>\n",
       "      <td>29</td>\n",
       "      <td>16</td>\n",
       "      <td>0</td>\n",
       "      <td>5.993961</td>\n",
       "    </tr>\n",
       "    <tr>\n",
       "      <th>1</th>\n",
       "      <td>id0889885</td>\n",
       "      <td>1</td>\n",
       "      <td>2016-03-11 23:35:37</td>\n",
       "      <td>2016-03-11 23:53:57</td>\n",
       "      <td>2</td>\n",
       "      <td>-73.988312</td>\n",
       "      <td>40.731743</td>\n",
       "      <td>-73.994751</td>\n",
       "      <td>40.694931</td>\n",
       "      <td>0</td>\n",
       "      <td>1100</td>\n",
       "      <td>1100.0</td>\n",
       "      <td>11</td>\n",
       "      <td>23</td>\n",
       "      <td>4</td>\n",
       "      <td>11</td>\n",
       "      <td>23</td>\n",
       "      <td>4</td>\n",
       "      <td>7.003974</td>\n",
       "    </tr>\n",
       "    <tr>\n",
       "      <th>2</th>\n",
       "      <td>id0857912</td>\n",
       "      <td>2</td>\n",
       "      <td>2016-02-21 17:59:33</td>\n",
       "      <td>2016-02-21 18:26:48</td>\n",
       "      <td>2</td>\n",
       "      <td>-73.997314</td>\n",
       "      <td>40.721458</td>\n",
       "      <td>-73.948029</td>\n",
       "      <td>40.774918</td>\n",
       "      <td>0</td>\n",
       "      <td>1635</td>\n",
       "      <td>1635.0</td>\n",
       "      <td>21</td>\n",
       "      <td>17</td>\n",
       "      <td>6</td>\n",
       "      <td>21</td>\n",
       "      <td>18</td>\n",
       "      <td>6</td>\n",
       "      <td>7.400010</td>\n",
       "    </tr>\n",
       "    <tr>\n",
       "      <th>3</th>\n",
       "      <td>id3744273</td>\n",
       "      <td>2</td>\n",
       "      <td>2016-01-05 09:44:31</td>\n",
       "      <td>2016-01-05 10:03:32</td>\n",
       "      <td>6</td>\n",
       "      <td>-73.961670</td>\n",
       "      <td>40.759720</td>\n",
       "      <td>-73.956779</td>\n",
       "      <td>40.780628</td>\n",
       "      <td>0</td>\n",
       "      <td>1141</td>\n",
       "      <td>1141.0</td>\n",
       "      <td>5</td>\n",
       "      <td>9</td>\n",
       "      <td>1</td>\n",
       "      <td>5</td>\n",
       "      <td>10</td>\n",
       "      <td>1</td>\n",
       "      <td>7.040536</td>\n",
       "    </tr>\n",
       "    <tr>\n",
       "      <th>4</th>\n",
       "      <td>id0232939</td>\n",
       "      <td>1</td>\n",
       "      <td>2016-02-17 06:42:23</td>\n",
       "      <td>2016-02-17 06:56:31</td>\n",
       "      <td>1</td>\n",
       "      <td>-74.017120</td>\n",
       "      <td>40.708469</td>\n",
       "      <td>-73.988182</td>\n",
       "      <td>40.740631</td>\n",
       "      <td>0</td>\n",
       "      <td>848</td>\n",
       "      <td>848.0</td>\n",
       "      <td>17</td>\n",
       "      <td>6</td>\n",
       "      <td>2</td>\n",
       "      <td>17</td>\n",
       "      <td>6</td>\n",
       "      <td>2</td>\n",
       "      <td>6.744059</td>\n",
       "    </tr>\n",
       "  </tbody>\n",
       "</table>\n",
       "</div>"
      ],
      "text/plain": [
       "          id vendor_id     pickup_datetime    dropoff_datetime  \\\n",
       "0  id1080784         2 2016-02-29 16:40:21 2016-02-29 16:47:01   \n",
       "1  id0889885         1 2016-03-11 23:35:37 2016-03-11 23:53:57   \n",
       "2  id0857912         2 2016-02-21 17:59:33 2016-02-21 18:26:48   \n",
       "3  id3744273         2 2016-01-05 09:44:31 2016-01-05 10:03:32   \n",
       "4  id0232939         1 2016-02-17 06:42:23 2016-02-17 06:56:31   \n",
       "\n",
       "   passenger_count  pickup_longitude  pickup_latitude  dropoff_longitude  \\\n",
       "0                1        -73.953918        40.778873         -73.963875   \n",
       "1                2        -73.988312        40.731743         -73.994751   \n",
       "2                2        -73.997314        40.721458         -73.948029   \n",
       "3                6        -73.961670        40.759720         -73.956779   \n",
       "4                1        -74.017120        40.708469         -73.988182   \n",
       "\n",
       "   dropoff_latitude store_and_fwd_flag  trip_duration  check_trip_duration  \\\n",
       "0         40.771164                  0            400                400.0   \n",
       "1         40.694931                  0           1100               1100.0   \n",
       "2         40.774918                  0           1635               1635.0   \n",
       "3         40.780628                  0           1141               1141.0   \n",
       "4         40.740631                  0            848                848.0   \n",
       "\n",
       "   pickup_day  pickup_hour  pickup_weekday  dropoff_day  dropoff_hour  \\\n",
       "0          29           16               0           29            16   \n",
       "1          11           23               4           11            23   \n",
       "2          21           17               6           21            18   \n",
       "3           5            9               1            5            10   \n",
       "4          17            6               2           17             6   \n",
       "\n",
       "   dropoff_weekday  log_trip_duration  \n",
       "0                0           5.993961  \n",
       "1                4           7.003974  \n",
       "2                6           7.400010  \n",
       "3                1           7.040536  \n",
       "4                2           6.744059  "
      ]
     },
     "execution_count": 23,
     "metadata": {},
     "output_type": "execute_result"
    }
   ],
   "source": [
    "df.head()"
   ]
  },
  {
   "cell_type": "code",
   "execution_count": 24,
   "metadata": {
    "colab": {
     "base_uri": "https://localhost:8080/"
    },
    "id": "a6e4b012",
    "outputId": "54174338-d664-476b-e7af-fea2f44a4f8d"
   },
   "outputs": [
    {
     "data": {
      "text/plain": [
       "(729287, 19)"
      ]
     },
     "execution_count": 24,
     "metadata": {},
     "output_type": "execute_result"
    }
   ],
   "source": [
    "df.shape"
   ]
  },
  {
   "cell_type": "markdown",
   "metadata": {
    "id": "8ac66555"
   },
   "source": [
    "### Lattitude & Longitude\n",
    "Lets look at the geospatial or location features to check consistency. They should not vary much as we are only considering trips within New York city."
   ]
  },
  {
   "cell_type": "code",
   "execution_count": 25,
   "metadata": {
    "colab": {
     "base_uri": "https://localhost:8080/",
     "height": 725
    },
    "id": "700462be",
    "outputId": "14343cd9-9695-42fa-ef67-d25de6e1f839"
   },
   "outputs": [
    {
     "data": {
      "image/png": "[encoded data removed]",
      "text/plain": [
       "<Figure size 720x720 with 4 Axes>"
      ]
     },
     "metadata": {},
     "output_type": "display_data"
    }
   ],
   "source": [
    "sns.set(style=\"white\", palette=\"muted\", color_codes=True)\n",
    "f, axes = plt.subplots(2,2,figsize=(10, 10), sharex=False, sharey = False)\n",
    "sns.despine(left=True)\n",
    "sns.distplot(df['pickup_latitude'].values, label = 'pickup_latitude',color=\"b\",bins = 100, ax=axes[0,0])\n",
    "sns.distplot(df['pickup_longitude'].values, label = 'pickup_longitude',color=\"r\",bins =100, ax=axes[1,0])\n",
    "sns.distplot(df['dropoff_latitude'].values, label = 'dropoff_latitude',color=\"b\",bins =100, ax=axes[0,1])\n",
    "sns.distplot(df['dropoff_longitude'].values, label = 'dropoff_longitude',color=\"r\",bins =100, ax=axes[1,1])\n",
    "plt.setp(axes, yticks=[])\n",
    "plt.tight_layout()\n",
    "plt.show()"
   ]
  },
  {
   "cell_type": "markdown",
   "metadata": {
    "id": "6137e532"
   },
   "source": [
    "Findings - (Here, red represents pickup and dropoff Longitudes & blue represents pickup & dropoff lattitudes)\n",
    "\n",
    "1. From the plot above it is clear that pick and drop latitude are centered around 40 to 41, and longitude are situated around -74 to -73. \n",
    "2. Some extreme co-ordinates has squeezed the plot such that we see a spike here\n",
    "3. A good idea is to remove these outliers and look at the distribution more closely"
   ]
  },
  {
   "cell_type": "code",
   "execution_count": 26,
   "metadata": {
    "colab": {
     "base_uri": "https://localhost:8080/",
     "height": 725
    },
    "id": "8f486b15",
    "outputId": "f9fcde39-41a0-4313-aaf0-1eac6a451d02"
   },
   "outputs": [
    {
     "data": {
      "image/png": "[encoded data removed]",
      "text/plain": [
       "<Figure size 720x720 with 4 Axes>"
      ]
     },
     "metadata": {},
     "output_type": "display_data"
    }
   ],
   "source": [
    "df = df.loc[(df.pickup_latitude > 40.6) & (df.pickup_latitude < 40.9)]\n",
    "df = df.loc[(df.dropoff_latitude>40.6) & (df.dropoff_latitude < 40.9)]\n",
    "df = df.loc[(df.dropoff_longitude > -74.05) & (df.dropoff_longitude < -73.7)]\n",
    "df = df.loc[(df.pickup_longitude > -74.05) & (df.pickup_longitude < -73.7)]\n",
    "df_data_new = df.copy()\n",
    "sns.set(style=\"white\", palette=\"muted\", color_codes=True)\n",
    "f, axes = plt.subplots(2,2,figsize=(10, 10), sharex=False, sharey = False)#\n",
    "sns.despine(left=True)\n",
    "sns.distplot(df_data_new['pickup_latitude'].values, label = 'pickup_latitude',color=\"b\",bins = 100, ax=axes[0,0])\n",
    "sns.distplot(df_data_new['pickup_longitude'].values, label = 'pickup_longitude',color=\"r\",bins =100, ax=axes[0,1])\n",
    "sns.distplot(df_data_new['dropoff_latitude'].values, label = 'dropoff_latitude',color=\"b\",bins =100, ax=axes[1, 0])\n",
    "sns.distplot(df_data_new['dropoff_longitude'].values, label = 'dropoff_longitude',color=\"r\",bins =100, ax=axes[1, 1])\n",
    "plt.setp(axes, yticks=[])\n",
    "plt.tight_layout()\n",
    "\n",
    "plt.show()"
   ]
  },
  {
   "cell_type": "markdown",
   "metadata": {
    "id": "cac2a5a5"
   },
   "source": [
    "* We have a much better view of the distribution of coordinates instead of spikes. And we see that most trips are concentrated between these lat long only with a few significant clusters.\n",
    "* These clusters are represented by the numerous peaks in the lattitude and longitude histograms\n"
   ]
  },
  {
   "cell_type": "markdown",
   "metadata": {
    "id": "cfcd49d4"
   },
   "source": [
    "### Bivariate Relations with Target"
   ]
  },
  {
   "cell_type": "code",
   "execution_count": 27,
   "metadata": {
    "colab": {
     "base_uri": "https://localhost:8080/"
    },
    "id": "5bd66db5",
    "outputId": "d6b093bd-6585-4177-fdaa-c7a0c3600234"
   },
   "outputs": [
    {
     "data": {
      "text/plain": [
       "Index(['id', 'vendor_id', 'pickup_datetime', 'dropoff_datetime',\n",
       "       'passenger_count', 'pickup_longitude', 'pickup_latitude',\n",
       "       'dropoff_longitude', 'dropoff_latitude', 'store_and_fwd_flag',\n",
       "       'trip_duration', 'check_trip_duration', 'pickup_day', 'pickup_hour',\n",
       "       'pickup_weekday', 'dropoff_day', 'dropoff_hour', 'dropoff_weekday',\n",
       "       'log_trip_duration'],\n",
       "      dtype='object')"
      ]
     },
     "execution_count": 27,
     "metadata": {},
     "output_type": "execute_result"
    }
   ],
   "source": [
    "df.columns"
   ]
  },
  {
   "cell_type": "markdown",
   "metadata": {
    "id": "2bf59140"
   },
   "source": [
    "### Trip Duration vs Vendor Id"
   ]
  },
  {
   "cell_type": "code",
   "execution_count": 28,
   "metadata": {
    "colab": {
     "base_uri": "https://localhost:8080/",
     "height": 301
    },
    "id": "2252bd28",
    "outputId": "4e180e4c-331d-4c78-8042-e410ead31442"
   },
   "outputs": [
    {
     "data": {
      "image/png": "[encoded data removed]",
      "text/plain": [
       "<Figure size 432x288 with 1 Axes>"
      ]
     },
     "metadata": {},
     "output_type": "display_data"
    }
   ],
   "source": [
    "sns.barplot(x=\"vendor_id\", y=\"trip_duration\",data=df);\n",
    "plt.title(\"Average Trip Duration (In seconds)\");\n",
    "plt.xlabel(\"Vendor Id\");\n",
    "plt.ylabel(\"Trip Duration\");"
   ]
  },
  {
   "cell_type": "markdown",
   "metadata": {
    "id": "c3bd2a90"
   },
   "source": [
    "* The average trip duration of vendor 2 is greater than vendor 1"
   ]
  },
  {
   "cell_type": "markdown",
   "metadata": {
    "id": "d04438f1"
   },
   "source": [
    "### Correlation Heatmap\n",
    "\n",
    "Let us quickly look at the correlation heatmap to check the correlations amongst all features."
   ]
  },
  {
   "cell_type": "code",
   "execution_count": 29,
   "metadata": {
    "id": "1c280e14"
   },
   "outputs": [],
   "source": [
    "df1 = df.drop(columns=['id', 'pickup_datetime', 'dropoff_datetime', 'pickup_longitude','pickup_latitude',\n",
    "                       'dropoff_longitude','dropoff_latitude','trip_duration'])"
   ]
  },
  {
   "cell_type": "code",
   "execution_count": 30,
   "metadata": {
    "colab": {
     "base_uri": "https://localhost:8080/",
     "height": 480
    },
    "id": "c32a300c",
    "outputId": "c2f4aace-25e3-4109-ac26-3d503d275b2b",
    "scrolled": true
   },
   "outputs": [
    {
     "data": {
      "image/png": "[encoded data removed]",
      "text/plain": [
       "<Figure size 864x432 with 2 Axes>"
      ]
     },
     "metadata": {},
     "output_type": "display_data"
    }
   ],
   "source": [
    "# checking the correlation among all features\n",
    "plt.figure(figsize=(12, 6))\n",
    "corr = df1.apply(lambda x: pd.factorize(x)[0]).corr()\n",
    "#corr = df1.corr()\n",
    "ax = sns.heatmap(corr, xticklabels=corr.columns, yticklabels=corr.columns, \n",
    "                 linewidths=.2, cmap=\"YlGnBu\")"
   ]
  },
  {
   "cell_type": "markdown",
   "metadata": {
    "id": "25efb6c1"
   },
   "source": [
    "## Basic Predictive Modeling\n",
    "\n",
    "As we know that this is a regression problem then we have to predict discrete value, which is our target- trip_duration.\n",
    "\n",
    "**So the evalutation metric for this model is - Root Mean Squared Error(RMSE)**\n",
    "\n",
    "RMSE is a very simple metric to be used for evaluation. Since, we will be comparing our models and we will create a benchmark model as a baseline, RMSE will easy to compare these different models. Lower, the value of RMSE, better the model. It will help in getting the elbow curve."
   ]
  },
  {
   "cell_type": "markdown",
   "metadata": {
    "id": "8ddbceb5"
   },
   "source": [
    "## Benchmark model"
   ]
  },
  {
   "cell_type": "markdown",
   "metadata": {
    "id": "640f0474"
   },
   "source": [
    "**Segregating variables: Independent and Dependent Variables**"
   ]
  },
  {
   "cell_type": "code",
   "execution_count": 31,
   "metadata": {
    "id": "e8f5fdf9"
   },
   "outputs": [],
   "source": [
    "#seperating independent and dependent variables\n",
    "X = df1.drop('log_trip_duration', axis=1)\n",
    "y = df1['log_trip_duration']"
   ]
  },
  {
   "cell_type": "markdown",
   "metadata": {
    "id": "ae8cfdec"
   },
   "source": [
    "**Scaling the data (Using MinMax Scaler)**"
   ]
  },
  {
   "cell_type": "code",
   "execution_count": 32,
   "metadata": {
    "id": "f56a7c70"
   },
   "outputs": [],
   "source": [
    "#Importing MinMax Scaler\n",
    "from sklearn.preprocessing import MinMaxScaler\n",
    "scaler = MinMaxScaler()\n",
    "x_scaled = scaler.fit_transform(X)\n",
    "X = pd.DataFrame(x_scaled, columns=X.columns)"
   ]
  },
  {
   "cell_type": "code",
   "execution_count": 33,
   "metadata": {
    "id": "1677b536"
   },
   "outputs": [],
   "source": [
    "X_train, X_test, y_train, y_test = train_test_split(X, y, test_size=0.25, random_state=42)"
   ]
  },
  {
   "cell_type": "code",
   "execution_count": 34,
   "metadata": {
    "id": "26fe95ac"
   },
   "outputs": [],
   "source": [
    "# creating train and test out of dataset for benchmark model\n",
    "train = pd.concat([X_train, y_train], axis=1, join=\"inner\")\n",
    "test = pd.concat([X_test, y_test], axis=1, join=\"inner\")"
   ]
  },
  {
   "cell_type": "code",
   "execution_count": 35,
   "metadata": {
    "colab": {
     "base_uri": "https://localhost:8080/",
     "height": 270
    },
    "id": "23db8267",
    "outputId": "96f272e9-9c87-4154-b741-9bd4c4b5f240"
   },
   "outputs": [
    {
     "data": {
      "text/html": [
       "<div>\n",
       "<style scoped>\n",
       "    .dataframe tbody tr th:only-of-type {\n",
       "        vertical-align: middle;\n",
       "    }\n",
       "\n",
       "    .dataframe tbody tr th {\n",
       "        vertical-align: top;\n",
       "    }\n",
       "\n",
       "    .dataframe thead th {\n",
       "        text-align: right;\n",
       "    }\n",
       "</style>\n",
       "<table border=\"1\" class=\"dataframe\">\n",
       "  <thead>\n",
       "    <tr style=\"text-align: right;\">\n",
       "      <th></th>\n",
       "      <th>vendor_id</th>\n",
       "      <th>passenger_count</th>\n",
       "      <th>store_and_fwd_flag</th>\n",
       "      <th>check_trip_duration</th>\n",
       "      <th>pickup_day</th>\n",
       "      <th>pickup_hour</th>\n",
       "      <th>pickup_weekday</th>\n",
       "      <th>dropoff_day</th>\n",
       "      <th>dropoff_hour</th>\n",
       "      <th>dropoff_weekday</th>\n",
       "      <th>log_trip_duration</th>\n",
       "    </tr>\n",
       "  </thead>\n",
       "  <tbody>\n",
       "    <tr>\n",
       "      <th>515261</th>\n",
       "      <td>0.0</td>\n",
       "      <td>0.0</td>\n",
       "      <td>0.0</td>\n",
       "      <td>0.000792</td>\n",
       "      <td>0.266667</td>\n",
       "      <td>0.478261</td>\n",
       "      <td>0.333333</td>\n",
       "      <td>0.266667</td>\n",
       "      <td>0.478261</td>\n",
       "      <td>0.333333</td>\n",
       "      <td>6.470800</td>\n",
       "    </tr>\n",
       "    <tr>\n",
       "      <th>564538</th>\n",
       "      <td>1.0</td>\n",
       "      <td>0.0</td>\n",
       "      <td>0.0</td>\n",
       "      <td>0.000720</td>\n",
       "      <td>0.700000</td>\n",
       "      <td>0.521739</td>\n",
       "      <td>0.166667</td>\n",
       "      <td>0.700000</td>\n",
       "      <td>0.565217</td>\n",
       "      <td>0.166667</td>\n",
       "      <td>6.911747</td>\n",
       "    </tr>\n",
       "    <tr>\n",
       "      <th>449767</th>\n",
       "      <td>1.0</td>\n",
       "      <td>0.0</td>\n",
       "      <td>0.0</td>\n",
       "      <td>0.000669</td>\n",
       "      <td>0.433333</td>\n",
       "      <td>0.956522</td>\n",
       "      <td>0.833333</td>\n",
       "      <td>0.433333</td>\n",
       "      <td>0.956522</td>\n",
       "      <td>0.833333</td>\n",
       "      <td>7.177019</td>\n",
       "    </tr>\n",
       "    <tr>\n",
       "      <th>554996</th>\n",
       "      <td>1.0</td>\n",
       "      <td>0.0</td>\n",
       "      <td>0.0</td>\n",
       "      <td>0.000032</td>\n",
       "      <td>0.433333</td>\n",
       "      <td>0.347826</td>\n",
       "      <td>0.500000</td>\n",
       "      <td>0.433333</td>\n",
       "      <td>0.347826</td>\n",
       "      <td>0.500000</td>\n",
       "      <td>5.556828</td>\n",
       "    </tr>\n",
       "    <tr>\n",
       "      <th>403942</th>\n",
       "      <td>0.0</td>\n",
       "      <td>0.0</td>\n",
       "      <td>1.0</td>\n",
       "      <td>0.001076</td>\n",
       "      <td>0.900000</td>\n",
       "      <td>0.521739</td>\n",
       "      <td>0.500000</td>\n",
       "      <td>0.900000</td>\n",
       "      <td>0.565217</td>\n",
       "      <td>0.500000</td>\n",
       "      <td>7.293698</td>\n",
       "    </tr>\n",
       "  </tbody>\n",
       "</table>\n",
       "</div>"
      ],
      "text/plain": [
       "        vendor_id  passenger_count  store_and_fwd_flag  check_trip_duration  \\\n",
       "515261        0.0              0.0                 0.0             0.000792   \n",
       "564538        1.0              0.0                 0.0             0.000720   \n",
       "449767        1.0              0.0                 0.0             0.000669   \n",
       "554996        1.0              0.0                 0.0             0.000032   \n",
       "403942        0.0              0.0                 1.0             0.001076   \n",
       "\n",
       "        pickup_day  pickup_hour  pickup_weekday  dropoff_day  dropoff_hour  \\\n",
       "515261    0.266667     0.478261        0.333333     0.266667      0.478261   \n",
       "564538    0.700000     0.521739        0.166667     0.700000      0.565217   \n",
       "449767    0.433333     0.956522        0.833333     0.433333      0.956522   \n",
       "554996    0.433333     0.347826        0.500000     0.433333      0.347826   \n",
       "403942    0.900000     0.521739        0.500000     0.900000      0.565217   \n",
       "\n",
       "        dropoff_weekday  log_trip_duration  \n",
       "515261         0.333333           6.470800  \n",
       "564538         0.166667           6.911747  \n",
       "449767         0.833333           7.177019  \n",
       "554996         0.500000           5.556828  \n",
       "403942         0.500000           7.293698  "
      ]
     },
     "execution_count": 35,
     "metadata": {},
     "output_type": "execute_result"
    }
   ],
   "source": [
    "train.head()"
   ]
  },
  {
   "cell_type": "code",
   "execution_count": 36,
   "metadata": {
    "colab": {
     "base_uri": "https://localhost:8080/",
     "height": 270
    },
    "id": "4c4eaa16",
    "outputId": "30f40460-b7bd-41c5-ff90-409e5966bc1e"
   },
   "outputs": [
    {
     "data": {
      "text/html": [
       "<div>\n",
       "<style scoped>\n",
       "    .dataframe tbody tr th:only-of-type {\n",
       "        vertical-align: middle;\n",
       "    }\n",
       "\n",
       "    .dataframe tbody tr th {\n",
       "        vertical-align: top;\n",
       "    }\n",
       "\n",
       "    .dataframe thead th {\n",
       "        text-align: right;\n",
       "    }\n",
       "</style>\n",
       "<table border=\"1\" class=\"dataframe\">\n",
       "  <thead>\n",
       "    <tr style=\"text-align: right;\">\n",
       "      <th></th>\n",
       "      <th>vendor_id</th>\n",
       "      <th>passenger_count</th>\n",
       "      <th>store_and_fwd_flag</th>\n",
       "      <th>check_trip_duration</th>\n",
       "      <th>pickup_day</th>\n",
       "      <th>pickup_hour</th>\n",
       "      <th>pickup_weekday</th>\n",
       "      <th>dropoff_day</th>\n",
       "      <th>dropoff_hour</th>\n",
       "      <th>dropoff_weekday</th>\n",
       "      <th>log_trip_duration</th>\n",
       "    </tr>\n",
       "  </thead>\n",
       "  <tbody>\n",
       "    <tr>\n",
       "      <th>715403</th>\n",
       "      <td>1.0</td>\n",
       "      <td>0.0</td>\n",
       "      <td>0.0</td>\n",
       "      <td>0.000372</td>\n",
       "      <td>0.333333</td>\n",
       "      <td>0.608696</td>\n",
       "      <td>0.833333</td>\n",
       "      <td>0.333333</td>\n",
       "      <td>0.652174</td>\n",
       "      <td>0.833333</td>\n",
       "      <td>6.692084</td>\n",
       "    </tr>\n",
       "    <tr>\n",
       "      <th>662439</th>\n",
       "      <td>0.0</td>\n",
       "      <td>0.0</td>\n",
       "      <td>0.0</td>\n",
       "      <td>0.000469</td>\n",
       "      <td>0.866667</td>\n",
       "      <td>0.826087</td>\n",
       "      <td>0.833333</td>\n",
       "      <td>0.866667</td>\n",
       "      <td>0.869565</td>\n",
       "      <td>0.833333</td>\n",
       "      <td>5.713733</td>\n",
       "    </tr>\n",
       "    <tr>\n",
       "      <th>631617</th>\n",
       "      <td>0.0</td>\n",
       "      <td>0.0</td>\n",
       "      <td>0.0</td>\n",
       "      <td>0.000041</td>\n",
       "      <td>0.833333</td>\n",
       "      <td>0.478261</td>\n",
       "      <td>0.833333</td>\n",
       "      <td>0.833333</td>\n",
       "      <td>0.478261</td>\n",
       "      <td>0.833333</td>\n",
       "      <td>6.437752</td>\n",
       "    </tr>\n",
       "    <tr>\n",
       "      <th>383387</th>\n",
       "      <td>1.0</td>\n",
       "      <td>0.0</td>\n",
       "      <td>0.0</td>\n",
       "      <td>0.000777</td>\n",
       "      <td>0.833333</td>\n",
       "      <td>0.391304</td>\n",
       "      <td>0.166667</td>\n",
       "      <td>0.833333</td>\n",
       "      <td>0.434783</td>\n",
       "      <td>0.166667</td>\n",
       "      <td>5.902633</td>\n",
       "    </tr>\n",
       "    <tr>\n",
       "      <th>429837</th>\n",
       "      <td>1.0</td>\n",
       "      <td>0.0</td>\n",
       "      <td>0.0</td>\n",
       "      <td>0.000588</td>\n",
       "      <td>0.633333</td>\n",
       "      <td>0.826087</td>\n",
       "      <td>0.333333</td>\n",
       "      <td>0.633333</td>\n",
       "      <td>0.826087</td>\n",
       "      <td>0.333333</td>\n",
       "      <td>6.761573</td>\n",
       "    </tr>\n",
       "  </tbody>\n",
       "</table>\n",
       "</div>"
      ],
      "text/plain": [
       "        vendor_id  passenger_count  store_and_fwd_flag  check_trip_duration  \\\n",
       "715403        1.0              0.0                 0.0             0.000372   \n",
       "662439        0.0              0.0                 0.0             0.000469   \n",
       "631617        0.0              0.0                 0.0             0.000041   \n",
       "383387        1.0              0.0                 0.0             0.000777   \n",
       "429837        1.0              0.0                 0.0             0.000588   \n",
       "\n",
       "        pickup_day  pickup_hour  pickup_weekday  dropoff_day  dropoff_hour  \\\n",
       "715403    0.333333     0.608696        0.833333     0.333333      0.652174   \n",
       "662439    0.866667     0.826087        0.833333     0.866667      0.869565   \n",
       "631617    0.833333     0.478261        0.833333     0.833333      0.478261   \n",
       "383387    0.833333     0.391304        0.166667     0.833333      0.434783   \n",
       "429837    0.633333     0.826087        0.333333     0.633333      0.826087   \n",
       "\n",
       "        dropoff_weekday  log_trip_duration  \n",
       "715403         0.833333           6.692084  \n",
       "662439         0.833333           5.713733  \n",
       "631617         0.833333           6.437752  \n",
       "383387         0.166667           5.902633  \n",
       "429837         0.333333           6.761573  "
      ]
     },
     "execution_count": 36,
     "metadata": {},
     "output_type": "execute_result"
    }
   ],
   "source": [
    "test.head()"
   ]
  },
  {
   "cell_type": "code",
   "execution_count": 37,
   "metadata": {
    "id": "e8207537"
   },
   "outputs": [],
   "source": [
    "# storing simple mean in a new column in the test set as \"simple_mean\"\n",
    "test['simple_mean'] = train['log_trip_duration'].mean()"
   ]
  },
  {
   "cell_type": "code",
   "execution_count": 38,
   "metadata": {
    "colab": {
     "base_uri": "https://localhost:8080/"
    },
    "id": "2c534e81",
    "outputId": "7f7c5da1-86f3-413a-9848-b4455ca567a7"
   },
   "outputs": [
    {
     "data": {
      "text/plain": [
       "0.7871127279815822"
      ]
     },
     "execution_count": 38,
     "metadata": {},
     "output_type": "execute_result"
    }
   ],
   "source": [
    "#importing the library\n",
    "from sklearn.metrics import mean_squared_error as MSE\n",
    "from math import sqrt\n",
    "\n",
    "#calculating root mean squared error\n",
    "error = sqrt(MSE(test['log_trip_duration'] , test['simple_mean']))\n",
    "error"
   ]
  },
  {
   "cell_type": "code",
   "execution_count": 39,
   "metadata": {
    "colab": {
     "base_uri": "https://localhost:8080/",
     "height": 143
    },
    "id": "8fc3a3c5",
    "outputId": "539fa0a7-e22b-4ce0-c61d-e8ccd2da498b"
   },
   "outputs": [
    {
     "data": {
      "text/html": [
       "<div>\n",
       "<style scoped>\n",
       "    .dataframe tbody tr th:only-of-type {\n",
       "        vertical-align: middle;\n",
       "    }\n",
       "\n",
       "    .dataframe tbody tr th {\n",
       "        vertical-align: top;\n",
       "    }\n",
       "\n",
       "    .dataframe thead th {\n",
       "        text-align: right;\n",
       "    }\n",
       "</style>\n",
       "<table border=\"1\" class=\"dataframe\">\n",
       "  <thead>\n",
       "    <tr style=\"text-align: right;\">\n",
       "      <th></th>\n",
       "      <th>log_trip_duration</th>\n",
       "    </tr>\n",
       "    <tr>\n",
       "      <th>store_and_fwd_flag</th>\n",
       "      <th></th>\n",
       "    </tr>\n",
       "  </thead>\n",
       "  <tbody>\n",
       "    <tr>\n",
       "      <th>0.0</th>\n",
       "      <td>6.462442</td>\n",
       "    </tr>\n",
       "    <tr>\n",
       "      <th>1.0</th>\n",
       "      <td>6.464510</td>\n",
       "    </tr>\n",
       "  </tbody>\n",
       "</table>\n",
       "</div>"
      ],
      "text/plain": [
       "                    log_trip_duration\n",
       "store_and_fwd_flag                   \n",
       "0.0                          6.462442\n",
       "1.0                          6.464510"
      ]
     },
     "execution_count": 39,
     "metadata": {},
     "output_type": "execute_result"
    }
   ],
   "source": [
    "trip_store = pd.pivot_table(train, values='log_trip_duration', index =['store_and_fwd_flag'], aggfunc=np.mean)\n",
    "trip_store"
   ]
  },
  {
   "cell_type": "code",
   "execution_count": 40,
   "metadata": {
    "id": "e9bb92e0"
   },
   "outputs": [],
   "source": [
    "# initializing new column to zero\n",
    "test['trip_store_mean'] = 0\n",
    "\n",
    "# For every unique entry in Outlet_Identifier\n",
    "for i in train['store_and_fwd_flag'].unique():\n",
    "  # Assign the mean value corresponding to unique entry\n",
    "  test['trip_store_mean'][test['store_and_fwd_flag'] == i] = train['log_trip_duration'][train['store_and_fwd_flag'] == i].mean()"
   ]
  },
  {
   "cell_type": "code",
   "execution_count": 41,
   "metadata": {
    "colab": {
     "base_uri": "https://localhost:8080/"
    },
    "id": "35c39b1e",
    "outputId": "439948ba-834c-4695-caa8-c2ed654dbaa5"
   },
   "outputs": [
    {
     "data": {
      "text/plain": [
       "0.7871117102087578"
      ]
     },
     "execution_count": 41,
     "metadata": {},
     "output_type": "execute_result"
    }
   ],
   "source": [
    "#calculating root mean squared error\n",
    "error = sqrt(MSE(test['log_trip_duration'] , test['trip_store_mean']))\n",
    "error"
   ]
  },
  {
   "cell_type": "markdown",
   "metadata": {
    "id": "e789dae4"
   },
   "source": [
    "As after the Calculation, The Error value as : **0.7871** for our **Benchmark Model**"
   ]
  },
  {
   "cell_type": "markdown",
   "metadata": {
    "id": "8df7a284"
   },
   "source": [
    "## KNN Model"
   ]
  },
  {
   "cell_type": "code",
   "execution_count": null,
   "metadata": {
    "colab": {
     "base_uri": "https://localhost:8080/"
    },
    "id": "da40babb",
    "outputId": "b3453c4d-aec9-40ba-8ae2-558c4294eff7"
   },
   "outputs": [],
   "source": [
    "# Creating instance of KNN\n",
    "knn = KNN(n_neighbors=5)\n",
    "\n",
    "# Fitting the model\n",
    "knn.fit(X_train, y_train)\n",
    "\n",
    "# Predicting over the Train Set and calculating RMSE\n",
    "y_pred = knn.predict(X_test)\n",
    "\n",
    "error = sqrt(MSE(y_test, y_pred))\n",
    "\n",
    "print(\"Test RMSE: \", error)"
   ]
  },
  {
   "cell_type": "markdown",
   "metadata": {
    "id": "5f467adf"
   },
   "source": [
    "**Elbow curve to determine the best value of k**"
   ]
  },
  {
   "cell_type": "code",
   "execution_count": 49,
   "metadata": {
    "id": "8d73ec65"
   },
   "outputs": [],
   "source": [
    "def Elbow(k):\n",
    "  test = []\n",
    "#training model for evey value of K\n",
    "  for i in k:\n",
    "    #Instance of KNN\n",
    "    reg = KNN(n_neighbors=i)\n",
    "    reg.fit(X_train, y_train)\n",
    "    #Appending RMSE value to empty list claculated using the predictions\n",
    "    tmp_pred = reg.predict(X_test)\n",
    "    temp_error = sqrt(MSE(tmp_pred, y_test))\n",
    "    test.append(temp_error)\n",
    "\n",
    "  return test"
   ]
  },
  {
   "cell_type": "code",
   "execution_count": 50,
   "metadata": {
    "id": "d6089b86"
   },
   "outputs": [],
   "source": [
    "#Defining K range\n",
    "k = range(1, 10)"
   ]
  },
  {
   "cell_type": "code",
   "execution_count": null,
   "metadata": {
    "id": "8fb632e6"
   },
   "outputs": [],
   "source": [
    "# calling above defined function\n",
    "test = Elbow(k)"
   ]
  },
  {
   "cell_type": "code",
   "execution_count": null,
   "metadata": {
    "colab": {
     "base_uri": "https://localhost:8080/",
     "height": 318
    },
    "id": "ed0b28f6",
    "outputId": "cdca7dc1-076c-4ee7-f922-60698d052e54"
   },
   "outputs": [],
   "source": [
    "# plotting the curve\n",
    "plt.plot(k, test)\n",
    "plt.xlabel('K Neighbors')\n",
    "plt.ylabel('RMSE')\n",
    "plt.title('Elbow curve for test')"
   ]
  },
  {
   "cell_type": "markdown",
   "metadata": {
    "id": "55c6d62f"
   },
   "source": [
    "Test Score"
   ]
  },
  {
   "cell_type": "code",
   "execution_count": null,
   "metadata": {
    "colab": {
     "base_uri": "https://localhost:8080/"
    },
    "id": "1d4ab160",
    "outputId": "78bdce2d-c899-4ec4-8027-507fed339b92"
   },
   "outputs": [],
   "source": [
    "# Creating instance of KNN again at the value of n_neighbours=6\n",
    "knn = KNN(n_neighbors=4)\n",
    "\n",
    "# Fitting the model\n",
    "knn.fit(X_train, y_train)\n",
    "\n",
    "# Predicting over the Test Set and calculating RMSE\n",
    "y_pred = knn.predict(X_test)\n",
    "\n",
    "error = sqrt(MSE(y_test, y_pred))\n",
    "\n",
    "print(\"Test RMSE: \", error)"
   ]
  },
  {
   "cell_type": "markdown",
   "metadata": {
    "id": "7faac9fb"
   },
   "source": [
    "Train Score"
   ]
  },
  {
   "cell_type": "code",
   "execution_count": null,
   "metadata": {
    "colab": {
     "base_uri": "https://localhost:8080/"
    },
    "id": "8743dd70",
    "outputId": "e7ebbcae-d971-4000-b924-86fbb58e8f56"
   },
   "outputs": [],
   "source": [
    "# Predicting over the Train Set and calculating RMSE\n",
    "y_pred = knn.predict(X_train)\n",
    "\n",
    "knn_train_rmse = sqrt(MSE(y_train, y_pred))\n",
    "\n",
    "print(\"Train RMSE: \", knn_train_rmse)"
   ]
  },
  {
   "cell_type": "markdown",
   "metadata": {
    "id": "1yIm9_QxmZgB"
   },
   "source": [
    "## Linear Model"
   ]
  },
  {
   "cell_type": "code",
   "execution_count": 42,
   "metadata": {
    "colab": {
     "base_uri": "https://localhost:8080/"
    },
    "id": "doGpxIKInO_W",
    "outputId": "21d7435f-05ac-441e-ce1c-5c2470e2d817"
   },
   "outputs": [
    {
     "data": {
      "text/plain": [
       "LinearRegression()"
      ]
     },
     "execution_count": 42,
     "metadata": {},
     "output_type": "execute_result"
    }
   ],
   "source": [
    "lr = LinearRegression()\n",
    "lr.fit(X_train, y_train)"
   ]
  },
  {
   "cell_type": "markdown",
   "metadata": {
    "id": "o6P0ucm8pGCg"
   },
   "source": [
    "**Test Score**"
   ]
  },
  {
   "cell_type": "code",
   "execution_count": 43,
   "metadata": {
    "colab": {
     "base_uri": "https://localhost:8080/"
    },
    "id": "OqXbpDg9nO73",
    "outputId": "fd3a1846-4e92-4980-af30-d380a49280e7"
   },
   "outputs": [
    {
     "name": "stdout",
     "output_type": "stream",
     "text": [
      "RMSE of linear regressor model:  0.7345971909495087\n"
     ]
    }
   ],
   "source": [
    "y_pred = lr.predict(X_test)\n",
    "\n",
    "lm_test_rmse = sqrt(MSE(y_test, y_pred))\n",
    "print(\"RMSE of linear regressor model: \", lm_test_rmse)"
   ]
  },
  {
   "cell_type": "markdown",
   "metadata": {
    "id": "2nkAQHLppLWD"
   },
   "source": [
    "**Train Score**"
   ]
  },
  {
   "cell_type": "code",
   "execution_count": 44,
   "metadata": {
    "colab": {
     "base_uri": "https://localhost:8080/"
    },
    "id": "YTS_xJtonO5G",
    "outputId": "2aa6d8f4-94d4-4fdf-b26c-5bd77b310575"
   },
   "outputs": [
    {
     "name": "stdout",
     "output_type": "stream",
     "text": [
      "RMSE of linear regressor model:  0.749042155992732\n"
     ]
    }
   ],
   "source": [
    "y_pred = lr.predict(X_train)\n",
    "\n",
    "lm_train_rmse = sqrt(MSE(y_train, y_pred))\n",
    "\n",
    "print(\"RMSE of linear regressor model: \", lm_train_rmse)"
   ]
  },
  {
   "cell_type": "markdown",
   "metadata": {
    "id": "QgWXRAZ1nO2N"
   },
   "source": [
    "## Decision tree model"
   ]
  },
  {
   "cell_type": "code",
   "execution_count": 45,
   "metadata": {
    "colab": {
     "base_uri": "https://localhost:8080/"
    },
    "id": "bxim3GC_nOvi",
    "outputId": "b6921850-53cd-42eb-c13d-a5822c46c5cd"
   },
   "outputs": [
    {
     "data": {
      "text/plain": [
       "DecisionTreeRegressor(random_state=42)"
      ]
     },
     "execution_count": 45,
     "metadata": {},
     "output_type": "execute_result"
    }
   ],
   "source": [
    "dtr = DecisionTreeRegressor(random_state=42)\n",
    "dtr.fit(X_train, y_train)"
   ]
  },
  {
   "cell_type": "markdown",
   "metadata": {
    "id": "Z7tQDVS1ph8T"
   },
   "source": [
    "**Test Score**"
   ]
  },
  {
   "cell_type": "code",
   "execution_count": 46,
   "metadata": {
    "colab": {
     "base_uri": "https://localhost:8080/"
    },
    "id": "eRnP4ottnOcC",
    "outputId": "b8744ee7-d374-45c0-c7dc-f309715fae0b"
   },
   "outputs": [
    {
     "name": "stdout",
     "output_type": "stream",
     "text": [
      "RMSE of decision tree regressor model:  0.0004080035098783167\n"
     ]
    }
   ],
   "source": [
    "y_pred = dtr.predict(X_test)\n",
    "\n",
    "dtr_test_rmse = sqrt(MSE(y_test, y_pred))\n",
    "print(\"RMSE of decision tree regressor model: \", dtr_test_rmse)"
   ]
  },
  {
   "cell_type": "code",
   "execution_count": 47,
   "metadata": {
    "colab": {
     "base_uri": "https://localhost:8080/"
    },
    "id": "Xseq85TKpsV9",
    "outputId": "4ecebae8-4df2-4194-cba5-cfbdfef8ddca"
   },
   "outputs": [
    {
     "name": "stdout",
     "output_type": "stream",
     "text": [
      "RMSE of decision tree regressor model:  2.911523031894004e-14\n"
     ]
    }
   ],
   "source": [
    "y_pred = dtr.predict(X_train)\n",
    "\n",
    "dtr_train_rmse = sqrt(MSE(y_train, y_pred))\n",
    "\n",
    "print(\"RMSE of decision tree regressor model: \", dtr_train_rmse)"
   ]
  },
  {
   "cell_type": "code",
   "execution_count": 48,
   "metadata": {
    "colab": {
     "base_uri": "https://localhost:8080/",
     "height": 355
    },
    "id": "0KK67jqPqEpG",
    "outputId": "6ea32709-892e-4ed3-8e67-528e2a4f126d"
   },
   "outputs": [
    {
     "data": {
      "image/png": "[encoded data removed]",
      "text/plain": [
       "<Figure size 504x360 with 1 Axes>"
      ]
     },
     "metadata": {},
     "output_type": "display_data"
    }
   ],
   "source": [
    "# Declaring the figure or the plot (y, x) or (width, height)\n",
    "plt.figure(figsize=[7, 5])\n",
    "\n",
    "train_scores = [0.2809, 0.7490 ]\n",
    "test_scores = [0.3913, 0.7345]\n",
    "\n",
    "# Passing the parameters to the bar function\n",
    "# Using X now to align the bars side by side\n",
    "X = np.arange(len(train_scores))\n",
    "\n",
    "\n",
    "# Passing the parameters to the bar function, this is the main function which creates the bar plot\n",
    "# Using X now to align the bars side by side\n",
    "plt.bar(X, train_scores, color = 'r', width = 0.25)\n",
    "plt.bar(X + 0.25, test_scores, color = 'b', width = 0.25)\n",
    "\n",
    "# Creating the legend of the bars in the plot\n",
    "plt.legend(['Train Score', 'Test Score'])\n",
    "\n",
    "labels = ['KNN Model', 'Linear Model']\n",
    "\n",
    "# Overiding the x axis with the country names\n",
    "plt.xticks([i + 0.25 for i in range(2)], labels)\n",
    "\n",
    "# Giving the tilte for the plot\n",
    "plt.title(\"Bar plot representing the train score and test RMSE score of each model\")\n",
    "# Namimg the x and y axis\n",
    "plt.xlabel('Models')\n",
    "plt.ylabel('RMSE score')\n",
    "\n",
    "\n",
    "# Displaying the bar plot\n",
    "plt.show()"
   ]
  },
  {
   "cell_type": "code",
   "execution_count": null,
   "metadata": {},
   "outputs": [],
   "source": []
  }
 ],
 "metadata": {
  "colab": {
   "include_colab_link": true,
   "name": "EDA+Machine Learning.ipynb",
   "provenance": []
  },
  "kernelspec": {
   "display_name": "Python 3",
   "language": "python",
   "name": "python3"
  },
  "language_info": {
   "codemirror_mode": {
    "name": "ipython",
    "version": 3
   },
   "file_extension": ".py",
   "mimetype": "text/x-python",
   "name": "python",
   "nbconvert_exporter": "python",
   "pygments_lexer": "ipython3",
   "version": "3.8.3"
  }
 },
 "nbformat": 4,
 "nbformat_minor": 5
}
